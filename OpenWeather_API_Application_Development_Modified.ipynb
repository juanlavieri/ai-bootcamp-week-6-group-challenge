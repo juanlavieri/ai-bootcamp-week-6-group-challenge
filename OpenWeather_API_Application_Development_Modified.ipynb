{
 "cells": [
  {
   "cell_type": "markdown",
   "id": "b53f99d3",
   "metadata": {},
   "source": [
    "# OpenWeather API Application Development\n",
    "This notebook outlines the steps for developing a text-based local application that uses the OpenWeather API for weather forecasting based on an address provided by the user."
   ]
  },
  {
   "cell_type": "markdown",
   "id": "e122349b",
   "metadata": {},
   "source": [
    "## Step 1: Understand the OpenWeather API\n",
    "- Visit the OpenWeather API documentation.\n",
    "- Focus on '5-day weather forecast' endpoint.\n",
    "- Understand the parameters for location-based queries and the API key authentication."
   ]
  },
  {
   "cell_type": "code",
   "execution_count": 1,
   "metadata": {},
   "outputs": [],
   "source": [
    "#import dependencies\n",
    "import os\n",
    "import requests\n",
    "import json\n",
    "import pandas as pd\n",
    "import numpy as np\n",
    "import matplotlib.pyplot as plt\n",
    "import seaborn as sns\n",
    "from datetime import datetime\n",
    "from datetime import timedelta\n",
    "\n",
    "\n",
    "# Load environment variables and OpenWeather API key\n",
    "from dotenv import load_dotenv\n",
    "load_dotenv()\n",
    "api_key = os.getenv(\"OPEN_WEATHER_API_KEY\")\n"
   ]
  },
  {
   "cell_type": "code",
   "execution_count": null,
   "metadata": {},
   "outputs": [],
   "source": [
    "# Save config information.\n",
    "url = \"http://api.openweathermap.org/data/2.5/weather?\"\n",
    "\n",
    "# Build partial query URL\n",
    "query_url = f\"{url}appid={api_key}&q=\""
   ]
  },
  {
   "cell_type": "code",
   "execution_count": null,
   "metadata": {},
   "outputs": [],
   "source": [
    "#city should be a user input, we need to validate the input aginst the api and then return the data\n",
    "city = input(\"What city are you in? \")\n",
    "\n",
    "# set up lists to hold reponse info for:\n",
    "# latitude, longitude, temp, humidity, and wind speed\n",
    "lat = []\n",
    "lon = []\n",
    "temp = []\n",
    "humidity = []\n",
    "wind_speed = []\n",
    "date = input(\"What date would you like to check? Please use YYYY-MM-DD format. \")\n",
    "date = []\n"
   ]
  },
  {
   "cell_type": "markdown",
   "id": "28cf7294",
   "metadata": {},
   "source": [
    "## Step 2: Design Your Application\n",
    "- Decide the functionalities (weather forecasts based on address).\n",
    "- Plan the user interface for the terminal display, including how to input and validate addresses."
   ]
  },
  {
   "cell_type": "markdown",
   "id": "1d8bca78",
   "metadata": {},
   "source": [
    "## Step 3: Set Up Development Environment\n",
    "- Choose a programming language (Python is recommended).\n",
    "- Install necessary libraries (`requests`, `json`, possibly `geopy` for address conversion)."
   ]
  },
  {
   "cell_type": "markdown",
   "id": "865cdaa9",
   "metadata": {},
   "source": [
    "## Step 4: Implementing the Application\n",
    "- Set up the basic structure.\n",
    "- Write functions to convert address to geolocation (latitude, longitude).\n",
    "- Implement API requests for weather data based on geolocation.\n",
    "- Parse API responses and display forecast data."
   ]
  },
  {
   "cell_type": "markdown",
   "id": "79183347",
   "metadata": {},
   "source": [
    "## Step 5: Testing and Debugging\n",
    "- Test each feature, especially address conversion and API integration.\n",
    "- Handle errors and exceptions related to network, API, and invalid addresses."
   ]
  },
  {
   "cell_type": "markdown",
   "id": "b6ac1c9b",
   "metadata": {},
   "source": [
    "## Step 6: Refinement and Additional Features\n",
    "- Refine user interface and input validation.\n",
    "- Consider adding features like saving user preferences or providing weather alerts."
   ]
  },
  {
   "cell_type": "markdown",
   "id": "cb5b11db",
   "metadata": {},
   "source": [
    "## Step 7: Documentation\n",
    "- Document how to use the application, including any setup for address input."
   ]
  },
  {
   "cell_type": "markdown",
   "id": "a986a95c",
   "metadata": {},
   "source": [
    "## Step 8: Compliance and Ethical Considerations\n",
    "- Ensure compliance with OpenWeather’s API usage terms.\n",
    "- Address user privacy concerns, especially in handling location data."
   ]
  }
 ],
 "metadata": {
  "kernelspec": {
   "display_name": "base",
   "language": "python",
   "name": "python3"
  },
  "language_info": {
   "codemirror_mode": {
    "name": "ipython",
    "version": 3
   },
   "file_extension": ".py",
   "mimetype": "text/x-python",
   "name": "python",
   "nbconvert_exporter": "python",
   "pygments_lexer": "ipython3",
   "version": "3.11.5"
  }
 },
 "nbformat": 4,
 "nbformat_minor": 5
}
